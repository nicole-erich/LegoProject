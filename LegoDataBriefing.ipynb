{
 "cells": [
  {
   "cell_type": "code",
   "execution_count": 1,
   "metadata": {
    "collapsed": false
   },
   "outputs": [],
   "source": [
    "import pandas as pd\n",
    "import numpy as np\n",
    "import random\n",
    "\n",
    "from scipy.spatial.distance import cdist, pdist\n",
    "from sklearn.cluster import KMeans\n",
    "from sklearn.cluster import AgglomerativeClustering\n",
    "\n",
    "import matplotlib.pyplot as plt\n",
    "from matplotlib.ticker import FuncFormatter\n",
    "import seaborn as sns; sns.set()\n",
    "%matplotlib inline"
   ]
  },
  {
   "cell_type": "code",
   "execution_count": 2,
   "metadata": {
    "collapsed": false
   },
   "outputs": [],
   "source": [
    "# Import statements\n",
    "# Data from http://rebrickable.com/downloads/\n",
    "\n",
    "colors = pd.read_csv(\"Data/colors.csv\")\n",
    "inv = pd.read_csv(\"Data/inventories.csv\")\n",
    "inv_parts = pd.read_csv(\"Data/inventory_parts.csv\")\n",
    "inv_sets = pd.read_csv(\"Data/inventory_sets.csv\")\n",
    "part_cat = pd.read_csv(\"Data/part_categories.csv\")\n",
    "parts = pd.read_csv(\"Data/parts.csv\")\n",
    "sets = pd.read_csv(\"Data/sets.csv\")\n",
    "themes = pd.read_csv(\"Data/themes.csv\")"
   ]
  },
  {
   "cell_type": "markdown",
   "metadata": {},
   "source": [
    "### Get most frequent colors for palette"
   ]
  },
  {
   "cell_type": "code",
   "execution_count": 3,
   "metadata": {
    "collapsed": false
   },
   "outputs": [
    {
     "name": "stdout",
     "output_type": "stream",
     "text": [
      "Inv parts part_num: 22506\n",
      "parts part_num: 25344\n"
     ]
    }
   ],
   "source": [
    "print \"Inv parts part_num: \" + str(len(inv_parts[\"part_num\"].value_counts().index))\n",
    "print \"parts part_num: \" + str(len(parts[\"part_num\"].value_counts().index))"
   ]
  },
  {
   "cell_type": "code",
   "execution_count": 4,
   "metadata": {
    "collapsed": false
   },
   "outputs": [
    {
     "data": {
      "image/png": "[encoded data removed]",
      "text/plain": [
       "<matplotlib.figure.Figure at 0x6a3ef60>"
      ]
     },
     "metadata": {},
     "output_type": "display_data"
    },
    {
     "data": {
      "image/png": "[encoded data removed]",
      "text/plain": [
       "<matplotlib.figure.Figure at 0xcbef978>"
      ]
     },
     "metadata": {},
     "output_type": "display_data"
    }
   ],
   "source": [
    "part_col = inv_parts.merge(colors, how=\"left\", left_on=\"color_id\", right_on=\"id\")\n",
    "lego_palette = pd.Series(part_col[\"rgb\"].value_counts().index.values).map(lambda x: \"#\" + x)\n",
    "lego_palette2 = lego_palette[11:]\n",
    "\n",
    "sns.palplot(sns.color_palette(lego_palette[:11]))\n",
    "sns.palplot(sns.color_palette(lego_palette2[:11]))"
   ]
  },
  {
   "cell_type": "markdown",
   "metadata": {},
   "source": [
    "### Make a plot of unique sets per year"
   ]
  },
  {
   "cell_type": "code",
   "execution_count": 5,
   "metadata": {
    "collapsed": false
   },
   "outputs": [],
   "source": [
    "# Group by years and count unique set numbers\n",
    "sets_unique = sets[sets[\"year\"]<2017]\n",
    "sets_unique = sets_unique.groupby([\"year\"])[\"set_num\"].apply(lambda x: len(x.unique()))"
   ]
  },
  {
   "cell_type": "code",
   "execution_count": 6,
   "metadata": {
    "collapsed": false
   },
   "outputs": [
    {
     "name": "stdout",
     "output_type": "stream",
     "text": [
      "Total Sets: 11542\n"
     ]
    }
   ],
   "source": [
    "print \"Total Sets: \" + str(len(sets[\"set_num\"].value_counts().index))"
   ]
  },
  {
   "cell_type": "code",
   "execution_count": 7,
   "metadata": {
    "collapsed": false
   },
   "outputs": [
    {
     "data": {
      "image/png": "[encoded data removed]",
      "text/plain": [
       "<matplotlib.figure.Figure at 0xcbef470>"
      ]
     },
     "metadata": {},
     "output_type": "display_data"
    }
   ],
   "source": [
    "# plot\n",
    "sns.set_style(\"whitegrid\")\n",
    "sns.set_palette(\"muted\")\n",
    "\n",
    "plt.plot(sets_unique)\n",
    "plt.tick_params(labelsize=14)\n",
    "plt.title(\"Sets per Year\",fontsize=20)\n",
    "\n",
    "plt.savefig(\"sets_year.png\")\n",
    "plt.show()"
   ]
  },
  {
   "cell_type": "markdown",
   "metadata": {
    "collapsed": false
   },
   "source": [
    "### Complete joins for a consolidated dataframe"
   ]
  },
  {
   "cell_type": "code",
   "execution_count": 8,
   "metadata": {
    "collapsed": false
   },
   "outputs": [
    {
     "data": {
      "text/html": [
       "<div>\n",
       "<table border=\"1\" class=\"dataframe\">\n",
       "  <thead>\n",
       "    <tr style=\"text-align: right;\">\n",
       "      <th></th>\n",
       "      <th>inventory_id</th>\n",
       "      <th>part_num</th>\n",
       "      <th>color_id</th>\n",
       "      <th>quantity</th>\n",
       "      <th>is_spare</th>\n",
       "      <th>id</th>\n",
       "      <th>version</th>\n",
       "      <th>set_num</th>\n",
       "    </tr>\n",
       "  </thead>\n",
       "  <tbody>\n",
       "    <tr>\n",
       "      <th>0</th>\n",
       "      <td>1</td>\n",
       "      <td>48379c01</td>\n",
       "      <td>72</td>\n",
       "      <td>1</td>\n",
       "      <td>f</td>\n",
       "      <td>1</td>\n",
       "      <td>1</td>\n",
       "      <td>7922-1</td>\n",
       "    </tr>\n",
       "    <tr>\n",
       "      <th>1</th>\n",
       "      <td>1</td>\n",
       "      <td>48395</td>\n",
       "      <td>7</td>\n",
       "      <td>1</td>\n",
       "      <td>f</td>\n",
       "      <td>1</td>\n",
       "      <td>1</td>\n",
       "      <td>7922-1</td>\n",
       "    </tr>\n",
       "    <tr>\n",
       "      <th>2</th>\n",
       "      <td>1</td>\n",
       "      <td>mcsport6</td>\n",
       "      <td>25</td>\n",
       "      <td>1</td>\n",
       "      <td>f</td>\n",
       "      <td>1</td>\n",
       "      <td>1</td>\n",
       "      <td>7922-1</td>\n",
       "    </tr>\n",
       "    <tr>\n",
       "      <th>3</th>\n",
       "      <td>1</td>\n",
       "      <td>paddle</td>\n",
       "      <td>0</td>\n",
       "      <td>1</td>\n",
       "      <td>f</td>\n",
       "      <td>1</td>\n",
       "      <td>1</td>\n",
       "      <td>7922-1</td>\n",
       "    </tr>\n",
       "    <tr>\n",
       "      <th>4</th>\n",
       "      <td>3</td>\n",
       "      <td>11816pr0005</td>\n",
       "      <td>78</td>\n",
       "      <td>1</td>\n",
       "      <td>f</td>\n",
       "      <td>3</td>\n",
       "      <td>1</td>\n",
       "      <td>3931-1</td>\n",
       "    </tr>\n",
       "  </tbody>\n",
       "</table>\n",
       "</div>"
      ],
      "text/plain": [
       "   inventory_id     part_num  color_id  quantity is_spare  id  version set_num\n",
       "0             1     48379c01        72         1        f   1        1  7922-1\n",
       "1             1        48395         7         1        f   1        1  7922-1\n",
       "2             1     mcsport6        25         1        f   1        1  7922-1\n",
       "3             1       paddle         0         1        f   1        1  7922-1\n",
       "4             3  11816pr0005        78         1        f   3        1  3931-1"
      ]
     },
     "execution_count": 8,
     "metadata": {},
     "output_type": "execute_result"
    }
   ],
   "source": [
    "parts_df = inv_parts.merge(inv,\"left\",left_on=\"inventory_id\",right_on=\"id\")\n",
    "parts_df.head()"
   ]
  },
  {
   "cell_type": "code",
   "execution_count": 9,
   "metadata": {
    "collapsed": false
   },
   "outputs": [
    {
     "name": "stdout",
     "output_type": "stream",
     "text": [
      "0\n",
      "0\n",
      "0\n"
     ]
    }
   ],
   "source": [
    "# Check for nulls in right-side dataframe\n",
    "print parts_df[\"id\"].isnull().sum()\n",
    "print parts_df[\"version\"].isnull().sum()\n",
    "print parts_df[\"set_num\"].isnull().sum()"
   ]
  },
  {
   "cell_type": "code",
   "execution_count": 10,
   "metadata": {
    "collapsed": false
   },
   "outputs": [
    {
     "name": "stdout",
     "output_type": "stream",
     "text": [
      "10590\n",
      "10590\n",
      "10587\n"
     ]
    }
   ],
   "source": [
    "# Check to see if inventory ID and set_num are 1-to-1\n",
    "print len(parts_df[\"inventory_id\"].value_counts().index)\n",
    "print len(parts_df[\"id\"].value_counts().index)\n",
    "print len(parts_df[\"set_num\"].value_counts().index)"
   ]
  },
  {
   "cell_type": "code",
   "execution_count": 11,
   "metadata": {
    "collapsed": false
   },
   "outputs": [
    {
     "data": {
      "text/html": [
       "<div>\n",
       "<table border=\"1\" class=\"dataframe\">\n",
       "  <thead>\n",
       "    <tr style=\"text-align: right;\">\n",
       "      <th></th>\n",
       "      <th>inventory_id</th>\n",
       "      <th>part_num</th>\n",
       "      <th>color_id</th>\n",
       "      <th>quantity</th>\n",
       "      <th>is_spare</th>\n",
       "      <th>id</th>\n",
       "      <th>version</th>\n",
       "      <th>set_num</th>\n",
       "      <th>name</th>\n",
       "      <th>year</th>\n",
       "      <th>theme_id</th>\n",
       "      <th>num_parts</th>\n",
       "    </tr>\n",
       "  </thead>\n",
       "  <tbody>\n",
       "    <tr>\n",
       "      <th>0</th>\n",
       "      <td>1</td>\n",
       "      <td>48379c01</td>\n",
       "      <td>72</td>\n",
       "      <td>1</td>\n",
       "      <td>f</td>\n",
       "      <td>1</td>\n",
       "      <td>1</td>\n",
       "      <td>7922-1</td>\n",
       "      <td>McDonald's Sports Set Number 6 - Orange Vest S...</td>\n",
       "      <td>2004</td>\n",
       "      <td>460</td>\n",
       "      <td>4</td>\n",
       "    </tr>\n",
       "    <tr>\n",
       "      <th>1</th>\n",
       "      <td>1</td>\n",
       "      <td>48395</td>\n",
       "      <td>7</td>\n",
       "      <td>1</td>\n",
       "      <td>f</td>\n",
       "      <td>1</td>\n",
       "      <td>1</td>\n",
       "      <td>7922-1</td>\n",
       "      <td>McDonald's Sports Set Number 6 - Orange Vest S...</td>\n",
       "      <td>2004</td>\n",
       "      <td>460</td>\n",
       "      <td>4</td>\n",
       "    </tr>\n",
       "    <tr>\n",
       "      <th>2</th>\n",
       "      <td>1</td>\n",
       "      <td>mcsport6</td>\n",
       "      <td>25</td>\n",
       "      <td>1</td>\n",
       "      <td>f</td>\n",
       "      <td>1</td>\n",
       "      <td>1</td>\n",
       "      <td>7922-1</td>\n",
       "      <td>McDonald's Sports Set Number 6 - Orange Vest S...</td>\n",
       "      <td>2004</td>\n",
       "      <td>460</td>\n",
       "      <td>4</td>\n",
       "    </tr>\n",
       "    <tr>\n",
       "      <th>3</th>\n",
       "      <td>1</td>\n",
       "      <td>paddle</td>\n",
       "      <td>0</td>\n",
       "      <td>1</td>\n",
       "      <td>f</td>\n",
       "      <td>1</td>\n",
       "      <td>1</td>\n",
       "      <td>7922-1</td>\n",
       "      <td>McDonald's Sports Set Number 6 - Orange Vest S...</td>\n",
       "      <td>2004</td>\n",
       "      <td>460</td>\n",
       "      <td>4</td>\n",
       "    </tr>\n",
       "    <tr>\n",
       "      <th>4</th>\n",
       "      <td>3</td>\n",
       "      <td>11816pr0005</td>\n",
       "      <td>78</td>\n",
       "      <td>1</td>\n",
       "      <td>f</td>\n",
       "      <td>3</td>\n",
       "      <td>1</td>\n",
       "      <td>3931-1</td>\n",
       "      <td>Emma's Splash Pool</td>\n",
       "      <td>2012</td>\n",
       "      <td>494</td>\n",
       "      <td>43</td>\n",
       "    </tr>\n",
       "  </tbody>\n",
       "</table>\n",
       "</div>"
      ],
      "text/plain": [
       "   inventory_id     part_num  color_id  quantity is_spare  id  version  \\\n",
       "0             1     48379c01        72         1        f   1        1   \n",
       "1             1        48395         7         1        f   1        1   \n",
       "2             1     mcsport6        25         1        f   1        1   \n",
       "3             1       paddle         0         1        f   1        1   \n",
       "4             3  11816pr0005        78         1        f   3        1   \n",
       "\n",
       "  set_num                                               name  year  theme_id  \\\n",
       "0  7922-1  McDonald's Sports Set Number 6 - Orange Vest S...  2004       460   \n",
       "1  7922-1  McDonald's Sports Set Number 6 - Orange Vest S...  2004       460   \n",
       "2  7922-1  McDonald's Sports Set Number 6 - Orange Vest S...  2004       460   \n",
       "3  7922-1  McDonald's Sports Set Number 6 - Orange Vest S...  2004       460   \n",
       "4  3931-1                                 Emma's Splash Pool  2012       494   \n",
       "\n",
       "   num_parts  \n",
       "0          4  \n",
       "1          4  \n",
       "2          4  \n",
       "3          4  \n",
       "4         43  "
      ]
     },
     "execution_count": 11,
     "metadata": {},
     "output_type": "execute_result"
    }
   ],
   "source": [
    "# Merge to sets to get the year\n",
    "parts_yr_df = parts_df.merge(sets,\"left\",left_on=\"set_num\",right_on=\"set_num\")\n",
    "parts_yr_df.head()"
   ]
  },
  {
   "cell_type": "code",
   "execution_count": 12,
   "metadata": {
    "collapsed": false
   },
   "outputs": [
    {
     "name": "stdout",
     "output_type": "stream",
     "text": [
      "0\n",
      "0\n",
      "0\n",
      "0\n"
     ]
    }
   ],
   "source": [
    "# Check for nulls in right-side dataframe\n",
    "print parts_yr_df[\"name\"].isnull().sum()\n",
    "print parts_yr_df[\"year\"].isnull().sum()\n",
    "print parts_yr_df[\"theme_id\"].isnull().sum()\n",
    "print parts_yr_df[\"num_parts\"].isnull().sum()"
   ]
  },
  {
   "cell_type": "code",
   "execution_count": 13,
   "metadata": {
    "collapsed": true
   },
   "outputs": [],
   "source": [
    "# Remove 2017 data\n",
    "parts_yr_df = parts_yr_df[parts_yr_df[\"year\"]<2017]"
   ]
  },
  {
   "cell_type": "code",
   "execution_count": 14,
   "metadata": {
    "collapsed": false
   },
   "outputs": [
    {
     "name": "stdout",
     "output_type": "stream",
     "text": [
      "(18, 12)\n"
     ]
    }
   ],
   "source": [
    "# Test the 1953 rows to see how many \"unique\" parts there should be\n",
    "print parts_yr_df[parts_yr_df[\"year\"]==1953].shape"
   ]
  },
  {
   "cell_type": "markdown",
   "metadata": {},
   "source": [
    "### Investigate history of new pieces"
   ]
  },
  {
   "cell_type": "code",
   "execution_count": 15,
   "metadata": {
    "collapsed": false
   },
   "outputs": [],
   "source": [
    "# make another column to track unique parts/color combos\n",
    "parts_yr_df[\"part_color_id\"] = parts_yr_df[\"part_num\"] + parts_yr_df[\"color_id\"].map(str)"
   ]
  },
  {
   "cell_type": "code",
   "execution_count": 16,
   "metadata": {
    "collapsed": false
   },
   "outputs": [
    {
     "name": "stdout",
     "output_type": "stream",
     "text": [
      "Total Parts/col: 41692\n"
     ]
    }
   ],
   "source": [
    "# group by parts and colors\n",
    "parts_col_counts = parts_yr_df.groupby([\"year\"])[\"part_color_id\"].count()\n",
    "\n",
    "print \"Total Parts/col: \" + str(len(parts_yr_df[\"part_color_id\"].value_counts().index))"
   ]
  },
  {
   "cell_type": "code",
   "execution_count": 17,
   "metadata": {
    "collapsed": false
   },
   "outputs": [
    {
     "name": "stdout",
     "output_type": "stream",
     "text": [
      "Total Parts: 21913\n"
     ]
    }
   ],
   "source": [
    "# group just by parts\n",
    "parts_counts = parts_yr_df.groupby([\"year\",\"part_num\"],as_index=False)[\"version\"].count().groupby([\"year\"])[\"part_num\"].count()\n",
    "\n",
    "print \"Total Parts: \" + str(len(parts_yr_df[\"part_num\"].value_counts().index))"
   ]
  },
  {
   "cell_type": "code",
   "execution_count": 18,
   "metadata": {
    "collapsed": false
   },
   "outputs": [
    {
     "data": {
      "image/png": "[encoded data removed]",
      "text/plain": [
       "<matplotlib.figure.Figure at 0x133685c0>"
      ]
     },
     "metadata": {},
     "output_type": "display_data"
    }
   ],
   "source": [
    "# plot\n",
    "sns.set_style(\"whitegrid\")\n",
    "sns.set_palette(\"muted\")\n",
    "\n",
    "fig, ax1 = plt.subplots()\n",
    "\n",
    "ax2 = ax1.twinx()\n",
    "ln1 = ax1.plot(parts_counts, color=sns.color_palette()[0])\n",
    "ln2 = ax2.plot(parts_col_counts, color=sns.color_palette()[1])\n",
    "\n",
    "ax1.tick_params(labelsize=14, colors=sns.color_palette()[0])\n",
    "ax2.tick_params(labelsize=14, colors=sns.color_palette()[1])\n",
    "\n",
    "# added three lines\n",
    "lns = ln1+ln2\n",
    "labs = [\"Shapes\",\"Shapes & Colors\"]\n",
    "ax1.legend(lns, labs, loc=0, fontsize=14, frameon=True)\n",
    "\n",
    "def thousands(x, pos):\n",
    "    'The two args are the value and tick position'\n",
    "    return '%1.1f' % (x*1e-3)\n",
    "\n",
    "formatter = FuncFormatter(thousands)\n",
    "\n",
    "ax1.yaxis.set_major_formatter(formatter)\n",
    "ax2.yaxis.set_major_formatter(formatter)\n",
    "\n",
    "ax2.grid(None)\n",
    "\n",
    "plt.title(\"Number of Unique Pieces\", fontsize=20)\n",
    "plt.savefig(\"unique_pieces.png\")\n",
    "\n",
    "plt.show()"
   ]
  },
  {
   "cell_type": "markdown",
   "metadata": {},
   "source": [
    "### Investigate the changes in color"
   ]
  },
  {
   "cell_type": "code",
   "execution_count": 19,
   "metadata": {
    "collapsed": false
   },
   "outputs": [
    {
     "data": {
      "text/html": [
       "<div>\n",
       "<table border=\"1\" class=\"dataframe\">\n",
       "  <thead>\n",
       "    <tr style=\"text-align: right;\">\n",
       "      <th></th>\n",
       "      <th>inventory_id</th>\n",
       "      <th>part_num</th>\n",
       "      <th>color_id</th>\n",
       "      <th>quantity</th>\n",
       "      <th>is_spare</th>\n",
       "      <th>id_x</th>\n",
       "      <th>version</th>\n",
       "      <th>set_num</th>\n",
       "      <th>name_x</th>\n",
       "      <th>year</th>\n",
       "      <th>theme_id</th>\n",
       "      <th>num_parts</th>\n",
       "      <th>part_color_id</th>\n",
       "      <th>id_y</th>\n",
       "      <th>name_y</th>\n",
       "      <th>rgb</th>\n",
       "      <th>is_trans</th>\n",
       "    </tr>\n",
       "  </thead>\n",
       "  <tbody>\n",
       "    <tr>\n",
       "      <th>0</th>\n",
       "      <td>1</td>\n",
       "      <td>48379c01</td>\n",
       "      <td>72</td>\n",
       "      <td>1</td>\n",
       "      <td>f</td>\n",
       "      <td>1</td>\n",
       "      <td>1</td>\n",
       "      <td>7922-1</td>\n",
       "      <td>McDonald's Sports Set Number 6 - Orange Vest S...</td>\n",
       "      <td>2004</td>\n",
       "      <td>460</td>\n",
       "      <td>4</td>\n",
       "      <td>48379c0172</td>\n",
       "      <td>72</td>\n",
       "      <td>Dark Bluish Gray</td>\n",
       "      <td>6C6E68</td>\n",
       "      <td>f</td>\n",
       "    </tr>\n",
       "    <tr>\n",
       "      <th>1</th>\n",
       "      <td>1</td>\n",
       "      <td>48395</td>\n",
       "      <td>7</td>\n",
       "      <td>1</td>\n",
       "      <td>f</td>\n",
       "      <td>1</td>\n",
       "      <td>1</td>\n",
       "      <td>7922-1</td>\n",
       "      <td>McDonald's Sports Set Number 6 - Orange Vest S...</td>\n",
       "      <td>2004</td>\n",
       "      <td>460</td>\n",
       "      <td>4</td>\n",
       "      <td>483957</td>\n",
       "      <td>7</td>\n",
       "      <td>Light Gray</td>\n",
       "      <td>9BA19D</td>\n",
       "      <td>f</td>\n",
       "    </tr>\n",
       "    <tr>\n",
       "      <th>2</th>\n",
       "      <td>1</td>\n",
       "      <td>mcsport6</td>\n",
       "      <td>25</td>\n",
       "      <td>1</td>\n",
       "      <td>f</td>\n",
       "      <td>1</td>\n",
       "      <td>1</td>\n",
       "      <td>7922-1</td>\n",
       "      <td>McDonald's Sports Set Number 6 - Orange Vest S...</td>\n",
       "      <td>2004</td>\n",
       "      <td>460</td>\n",
       "      <td>4</td>\n",
       "      <td>mcsport625</td>\n",
       "      <td>25</td>\n",
       "      <td>Orange</td>\n",
       "      <td>FE8A18</td>\n",
       "      <td>f</td>\n",
       "    </tr>\n",
       "    <tr>\n",
       "      <th>3</th>\n",
       "      <td>1</td>\n",
       "      <td>paddle</td>\n",
       "      <td>0</td>\n",
       "      <td>1</td>\n",
       "      <td>f</td>\n",
       "      <td>1</td>\n",
       "      <td>1</td>\n",
       "      <td>7922-1</td>\n",
       "      <td>McDonald's Sports Set Number 6 - Orange Vest S...</td>\n",
       "      <td>2004</td>\n",
       "      <td>460</td>\n",
       "      <td>4</td>\n",
       "      <td>paddle0</td>\n",
       "      <td>0</td>\n",
       "      <td>Black</td>\n",
       "      <td>05131D</td>\n",
       "      <td>f</td>\n",
       "    </tr>\n",
       "    <tr>\n",
       "      <th>4</th>\n",
       "      <td>3</td>\n",
       "      <td>11816pr0005</td>\n",
       "      <td>78</td>\n",
       "      <td>1</td>\n",
       "      <td>f</td>\n",
       "      <td>3</td>\n",
       "      <td>1</td>\n",
       "      <td>3931-1</td>\n",
       "      <td>Emma's Splash Pool</td>\n",
       "      <td>2012</td>\n",
       "      <td>494</td>\n",
       "      <td>43</td>\n",
       "      <td>11816pr000578</td>\n",
       "      <td>78</td>\n",
       "      <td>Light Flesh</td>\n",
       "      <td>F6D7B3</td>\n",
       "      <td>f</td>\n",
       "    </tr>\n",
       "  </tbody>\n",
       "</table>\n",
       "</div>"
      ],
      "text/plain": [
       "   inventory_id     part_num  color_id  quantity is_spare  id_x  version  \\\n",
       "0             1     48379c01        72         1        f     1        1   \n",
       "1             1        48395         7         1        f     1        1   \n",
       "2             1     mcsport6        25         1        f     1        1   \n",
       "3             1       paddle         0         1        f     1        1   \n",
       "4             3  11816pr0005        78         1        f     3        1   \n",
       "\n",
       "  set_num                                             name_x  year  theme_id  \\\n",
       "0  7922-1  McDonald's Sports Set Number 6 - Orange Vest S...  2004       460   \n",
       "1  7922-1  McDonald's Sports Set Number 6 - Orange Vest S...  2004       460   \n",
       "2  7922-1  McDonald's Sports Set Number 6 - Orange Vest S...  2004       460   \n",
       "3  7922-1  McDonald's Sports Set Number 6 - Orange Vest S...  2004       460   \n",
       "4  3931-1                                 Emma's Splash Pool  2012       494   \n",
       "\n",
       "   num_parts  part_color_id  id_y            name_y     rgb is_trans  \n",
       "0          4     48379c0172    72  Dark Bluish Gray  6C6E68        f  \n",
       "1          4         483957     7        Light Gray  9BA19D        f  \n",
       "2          4     mcsport625    25            Orange  FE8A18        f  \n",
       "3          4        paddle0     0             Black  05131D        f  \n",
       "4         43  11816pr000578    78       Light Flesh  F6D7B3        f  "
      ]
     },
     "execution_count": 19,
     "metadata": {},
     "output_type": "execute_result"
    }
   ],
   "source": [
    "# Merge to get color names\n",
    "parts_col_df = parts_yr_df.merge(colors,\"left\",left_on=\"color_id\",right_on=\"id\")\n",
    "parts_col_df.head()"
   ]
  },
  {
   "cell_type": "code",
   "execution_count": 20,
   "metadata": {
    "collapsed": false
   },
   "outputs": [
    {
     "name": "stdout",
     "output_type": "stream",
     "text": [
      "0\n",
      "0\n",
      "0\n",
      "0\n"
     ]
    }
   ],
   "source": [
    "# Check for nulls in right-side dataframe\n",
    "print parts_col_df[\"id_y\"].isnull().sum()\n",
    "print parts_col_df[\"name_y\"].isnull().sum()\n",
    "print parts_col_df[\"rgb\"].isnull().sum()\n",
    "print parts_col_df[\"is_trans\"].isnull().sum()"
   ]
  },
  {
   "cell_type": "code",
   "execution_count": 21,
   "metadata": {
    "collapsed": false
   },
   "outputs": [
    {
     "data": {
      "text/html": [
       "<div>\n",
       "<table border=\"1\" class=\"dataframe\">\n",
       "  <thead>\n",
       "    <tr style=\"text-align: right;\">\n",
       "      <th></th>\n",
       "      <th>year</th>\n",
       "      <th>id_y</th>\n",
       "    </tr>\n",
       "  </thead>\n",
       "  <tbody>\n",
       "    <tr>\n",
       "      <th>48</th>\n",
       "      <td>2000</td>\n",
       "      <td>53</td>\n",
       "    </tr>\n",
       "    <tr>\n",
       "      <th>49</th>\n",
       "      <td>2001</td>\n",
       "      <td>66</td>\n",
       "    </tr>\n",
       "    <tr>\n",
       "      <th>50</th>\n",
       "      <td>2002</td>\n",
       "      <td>71</td>\n",
       "    </tr>\n",
       "    <tr>\n",
       "      <th>51</th>\n",
       "      <td>2003</td>\n",
       "      <td>87</td>\n",
       "    </tr>\n",
       "    <tr>\n",
       "      <th>52</th>\n",
       "      <td>2004</td>\n",
       "      <td>91</td>\n",
       "    </tr>\n",
       "    <tr>\n",
       "      <th>53</th>\n",
       "      <td>2005</td>\n",
       "      <td>97</td>\n",
       "    </tr>\n",
       "    <tr>\n",
       "      <th>54</th>\n",
       "      <td>2006</td>\n",
       "      <td>85</td>\n",
       "    </tr>\n",
       "    <tr>\n",
       "      <th>55</th>\n",
       "      <td>2007</td>\n",
       "      <td>68</td>\n",
       "    </tr>\n",
       "    <tr>\n",
       "      <th>56</th>\n",
       "      <td>2008</td>\n",
       "      <td>60</td>\n",
       "    </tr>\n",
       "    <tr>\n",
       "      <th>57</th>\n",
       "      <td>2009</td>\n",
       "      <td>61</td>\n",
       "    </tr>\n",
       "    <tr>\n",
       "      <th>58</th>\n",
       "      <td>2010</td>\n",
       "      <td>67</td>\n",
       "    </tr>\n",
       "  </tbody>\n",
       "</table>\n",
       "</div>"
      ],
      "text/plain": [
       "    year  id_y\n",
       "48  2000    53\n",
       "49  2001    66\n",
       "50  2002    71\n",
       "51  2003    87\n",
       "52  2004    91\n",
       "53  2005    97\n",
       "54  2006    85\n",
       "55  2007    68\n",
       "56  2008    60\n",
       "57  2009    61\n",
       "58  2010    67"
      ]
     },
     "execution_count": 21,
     "metadata": {},
     "output_type": "execute_result"
    }
   ],
   "source": [
    "# count unique colors per year\n",
    "color_freq = parts_col_df.groupby([\"year\",\"id_y\"],as_index=False)[\"is_trans\"].count().groupby([\"year\"])[\"id_y\"].count()\n",
    "color_freq=pd.DataFrame(color_freq)\n",
    "color_freq = color_freq.reset_index()\n",
    "\n",
    "# subset to years 2000-2010, inclusive\n",
    "color_freq = color_freq[color_freq[\"year\"]>=2000]\n",
    "color_freq = color_freq[color_freq[\"year\"]<2011]\n",
    "\n",
    "color_freq"
   ]
  },
  {
   "cell_type": "code",
   "execution_count": 22,
   "metadata": {
    "collapsed": false
   },
   "outputs": [],
   "source": [
    "# Get most used color for each year by number of pieces using it\n",
    "# Not used elsewhere\n",
    "\n",
    "# group by color names\n",
    "col_rgb = parts_col_df.groupby([\"year\",\"rgb\"],as_index=False)[\"is_trans\"].count()\n",
    "col_rgb.columns = [\"year\",\"rgb\",\"freq\"]\n",
    "\n",
    "# subset to years 2000-2010, inclusive\n",
    "col_rgb = col_rgb[col_rgb[\"year\"]>=2000]\n",
    "col_rgb = col_rgb[col_rgb[\"year\"]<2011]\n",
    "\n",
    "# Get percents of color for each year\n",
    "pcts = col_rgb.groupby([\"year\"])[\"freq\"].apply(lambda x: 100.0*x/x.sum())\n",
    "col_rgb[\"percents\"] = pcts"
   ]
  },
  {
   "cell_type": "code",
   "execution_count": 23,
   "metadata": {
    "collapsed": false
   },
   "outputs": [
    {
     "data": {
      "image/png": "[encoded data removed]",
      "text/plain": [
       "<matplotlib.figure.Figure at 0x131103c8>"
      ]
     },
     "metadata": {},
     "output_type": "display_data"
    }
   ],
   "source": [
    "sns.set_style(\"whitegrid\")\n",
    "sns.set_palette(lego_palette)\n",
    "\n",
    "fig, ax = plt.subplots()\n",
    "\n",
    "sns.barplot(x=\"year\", y=\"id_y\", data=color_freq)\n",
    "plt.title(\"Unique Colors\",fontsize=20)\n",
    "\n",
    "ax.set_xlabel(\"\")\n",
    "ax.set_ylabel(\"\")\n",
    "ax.tick_params(labelsize=13)\n",
    "\n",
    "plt.savefig(\"unique_colors.png\")\n",
    "plt.show()"
   ]
  },
  {
   "cell_type": "markdown",
   "metadata": {},
   "source": [
    "### Investigate pieces shared across sets"
   ]
  },
  {
   "cell_type": "code",
   "execution_count": 24,
   "metadata": {
    "collapsed": false
   },
   "outputs": [],
   "source": [
    "# Groupby to find sets per part per year\n",
    "parts_df = parts_yr_df.groupby([\"part_num\",\"year\"],as_index=False)[\"set_num\"].apply(lambda x: len(x.unique()))\n",
    "parts_df = pd.DataFrame(parts_df)\n",
    "parts_df = parts_df.reset_index().ix[:,\"part_num\":\"set_num\"]\n",
    "\n",
    "# Filter years\n",
    "parts_df = parts_df[parts_df[\"year\"]<2011]\n",
    "parts_df = parts_df[parts_df[\"year\"]>=2000]"
   ]
  },
  {
   "cell_type": "code",
   "execution_count": 25,
   "metadata": {
    "collapsed": true
   },
   "outputs": [],
   "source": [
    "# Pivot to see years as column headers\n",
    "parts_pivot = parts_df.pivot(index=\"part_num\", columns=\"year\",values=\"set_num\")\n",
    "\n",
    "# Only show part numbers with at least 1 set in this timeframe\n",
    "parts_pivot = parts_pivot.dropna(axis=0,how=\"all\")"
   ]
  },
  {
   "cell_type": "code",
   "execution_count": 26,
   "metadata": {
    "collapsed": false
   },
   "outputs": [
    {
     "data": {
      "image/png": "[encoded data removed]",
      "text/plain": [
       "<matplotlib.figure.Figure at 0xce5a748>"
      ]
     },
     "metadata": {},
     "output_type": "display_data"
    }
   ],
   "source": [
    "# plot\n",
    "sns.set_style(\"whitegrid\")\n",
    "sns.set_palette(lego_palette2)\n",
    "\n",
    "fig, ax = plt.subplots()\n",
    "\n",
    "sns.boxplot(x=\"year\",y=\"set_num\", data=parts_df, showfliers=False)\n",
    "plt.title(\"Number of Sets per Part\", fontsize=20)\n",
    "\n",
    "plt.ylim(0,18)\n",
    "\n",
    "ax.set_xlabel(\"\")\n",
    "ax.set_ylabel(\"\")\n",
    "ax.tick_params(labelsize=13)\n",
    "\n",
    "plt.savefig(\"sets_per_part.png\")\n",
    "plt.show()"
   ]
  },
  {
   "cell_type": "markdown",
   "metadata": {
    "collapsed": false
   },
   "source": [
    "### Clustering Parts"
   ]
  },
  {
   "cell_type": "code",
   "execution_count": 27,
   "metadata": {
    "collapsed": false
   },
   "outputs": [
    {
     "name": "stdout",
     "output_type": "stream",
     "text": [
      "(567674, 5)\n",
      "(44753, 5)\n"
     ]
    }
   ],
   "source": [
    "# Merge dataframes to get part dataframe\n",
    "parts_agg = inv_parts.merge(parts,how=\"left\",on=\"part_num\")\n",
    "parts_agg = parts_agg.merge(colors,how=\"left\",left_on=\"color_id\",right_on=\"id\")\n",
    "\n",
    "# Drop repeated or non-descriptive columns, null values for part_cat_id\n",
    "parts_dropped = parts_agg.drop([\"inventory_id\",\"quantity\",\"name_x\",\"name_y\",\"id\",\"rgb\"],axis=1)\n",
    "parts_dropped = parts_dropped.dropna(axis=0,)\n",
    "\n",
    "print parts_dropped.shape\n",
    "parts_dropped = parts_dropped.drop_duplicates()\n",
    "print parts_dropped.shape"
   ]
  },
  {
   "cell_type": "code",
   "execution_count": 28,
   "metadata": {
    "collapsed": false
   },
   "outputs": [
    {
     "name": "stdout",
     "output_type": "stream",
     "text": [
      "0\n",
      "0\n",
      "0\n",
      "0\n",
      "0\n"
     ]
    }
   ],
   "source": [
    "# Check for NAN values\n",
    "print sum(parts_dropped[\"part_num\"].isnull())\n",
    "print sum(parts_dropped[\"color_id\"].isnull())\n",
    "print sum(parts_dropped[\"is_spare\"].isnull())\n",
    "print sum(parts_dropped[\"part_cat_id\"].isnull())\n",
    "print sum(parts_dropped[\"is_trans\"].isnull())"
   ]
  },
  {
   "cell_type": "code",
   "execution_count": 29,
   "metadata": {
    "collapsed": false
   },
   "outputs": [
    {
     "name": "stdout",
     "output_type": "stream",
     "text": [
      "(44753, 5)\n"
     ]
    },
    {
     "name": "stderr",
     "output_type": "stream",
     "text": [
      "C:\\Users\\Nicole\\Anaconda2\\lib\\site-packages\\ipykernel\\__main__.py:5: SettingWithCopyWarning: \n",
      "A value is trying to be set on a copy of a slice from a DataFrame\n",
      "\n",
      "See the caveats in the documentation: http://pandas.pydata.org/pandas-docs/stable/indexing.html#indexing-view-versus-copy\n",
      "C:\\Users\\Nicole\\Anaconda2\\lib\\site-packages\\ipykernel\\__main__.py:8: SettingWithCopyWarning: \n",
      "A value is trying to be set on a copy of a slice from a DataFrame\n",
      "\n",
      "See the caveats in the documentation: http://pandas.pydata.org/pandas-docs/stable/indexing.html#indexing-view-versus-copy\n"
     ]
    },
    {
     "data": {
      "text/html": [
       "<div>\n",
       "<table border=\"1\" class=\"dataframe\">\n",
       "  <thead>\n",
       "    <tr style=\"text-align: right;\">\n",
       "      <th></th>\n",
       "      <th>part_num</th>\n",
       "      <th>color_id</th>\n",
       "      <th>part_cat_id</th>\n",
       "      <th>is_spare_num</th>\n",
       "      <th>is_trans_num</th>\n",
       "    </tr>\n",
       "  </thead>\n",
       "  <tbody>\n",
       "    <tr>\n",
       "      <th>0</th>\n",
       "      <td>48379c01</td>\n",
       "      <td>72</td>\n",
       "      <td>27</td>\n",
       "      <td>0</td>\n",
       "      <td>0</td>\n",
       "    </tr>\n",
       "    <tr>\n",
       "      <th>1</th>\n",
       "      <td>48395</td>\n",
       "      <td>7</td>\n",
       "      <td>27</td>\n",
       "      <td>0</td>\n",
       "      <td>0</td>\n",
       "    </tr>\n",
       "    <tr>\n",
       "      <th>2</th>\n",
       "      <td>mcsport6</td>\n",
       "      <td>25</td>\n",
       "      <td>13</td>\n",
       "      <td>0</td>\n",
       "      <td>0</td>\n",
       "    </tr>\n",
       "    <tr>\n",
       "      <th>3</th>\n",
       "      <td>paddle</td>\n",
       "      <td>0</td>\n",
       "      <td>27</td>\n",
       "      <td>0</td>\n",
       "      <td>0</td>\n",
       "    </tr>\n",
       "    <tr>\n",
       "      <th>4</th>\n",
       "      <td>11816pr0005</td>\n",
       "      <td>78</td>\n",
       "      <td>13</td>\n",
       "      <td>0</td>\n",
       "      <td>0</td>\n",
       "    </tr>\n",
       "  </tbody>\n",
       "</table>\n",
       "</div>"
      ],
      "text/plain": [
       "      part_num  color_id  part_cat_id  is_spare_num  is_trans_num\n",
       "0     48379c01        72           27             0             0\n",
       "1        48395         7           27             0             0\n",
       "2     mcsport6        25           13             0             0\n",
       "3       paddle         0           27             0             0\n",
       "4  11816pr0005        78           13             0             0"
      ]
     },
     "execution_count": 29,
     "metadata": {},
     "output_type": "execute_result"
    }
   ],
   "source": [
    "parts_updated = parts_dropped.copy()\n",
    "\n",
    "# \"Dummify\" categorical columns\n",
    "parts_updated[\"is_spare_num\"] = 1\n",
    "parts_updated[\"is_spare_num\"][parts_updated[\"is_spare\"]==\"f\"] = 0\n",
    "\n",
    "parts_updated[\"is_trans_num\"] = 1\n",
    "parts_updated[\"is_trans_num\"][parts_updated[\"is_trans\"]==\"f\"] = 0\n",
    "\n",
    "parts_updated[\"part_cat_id\"] = parts_updated[\"part_cat_id\"].map(lambda x: int(x)) \n",
    "\n",
    "parts_updated = parts_updated.drop([\"is_spare\",\"is_trans\"],axis=1)\n",
    "\n",
    "print parts_updated.shape\n",
    "parts_updated.head()"
   ]
  },
  {
   "cell_type": "code",
   "execution_count": 30,
   "metadata": {
    "collapsed": false
   },
   "outputs": [
    {
     "name": "stdout",
     "output_type": "stream",
     "text": [
      "0\n",
      "0\n",
      "0\n",
      "0\n",
      "0\n"
     ]
    }
   ],
   "source": [
    "print sum(parts_updated[\"part_num\"].isnull())\n",
    "print sum(parts_updated[\"color_id\"].isnull())\n",
    "print sum(parts_updated[\"part_cat_id\"].isnull())\n",
    "print sum(parts_updated[\"is_spare_num\"].isnull())\n",
    "print sum(parts_updated[\"is_trans_num\"].isnull())"
   ]
  },
  {
   "cell_type": "code",
   "execution_count": 31,
   "metadata": {
    "collapsed": false
   },
   "outputs": [
    {
     "data": {
      "text/html": [
       "<div>\n",
       "<table border=\"1\" class=\"dataframe\">\n",
       "  <thead>\n",
       "    <tr style=\"text-align: right;\">\n",
       "      <th></th>\n",
       "      <th>color_id</th>\n",
       "      <th>part_cat_id</th>\n",
       "      <th>is_spare_num</th>\n",
       "      <th>is_trans_num</th>\n",
       "    </tr>\n",
       "  </thead>\n",
       "  <tbody>\n",
       "    <tr>\n",
       "      <th>0</th>\n",
       "      <td>4</td>\n",
       "      <td>13</td>\n",
       "      <td>0</td>\n",
       "      <td>0</td>\n",
       "    </tr>\n",
       "    <tr>\n",
       "      <th>1</th>\n",
       "      <td>182</td>\n",
       "      <td>15</td>\n",
       "      <td>0</td>\n",
       "      <td>1</td>\n",
       "    </tr>\n",
       "    <tr>\n",
       "      <th>2</th>\n",
       "      <td>272</td>\n",
       "      <td>14</td>\n",
       "      <td>0</td>\n",
       "      <td>0</td>\n",
       "    </tr>\n",
       "    <tr>\n",
       "      <th>3</th>\n",
       "      <td>15</td>\n",
       "      <td>27</td>\n",
       "      <td>0</td>\n",
       "      <td>0</td>\n",
       "    </tr>\n",
       "    <tr>\n",
       "      <th>4</th>\n",
       "      <td>27</td>\n",
       "      <td>51</td>\n",
       "      <td>0</td>\n",
       "      <td>0</td>\n",
       "    </tr>\n",
       "  </tbody>\n",
       "</table>\n",
       "</div>"
      ],
      "text/plain": [
       "   color_id  part_cat_id  is_spare_num  is_trans_num\n",
       "0         4           13             0             0\n",
       "1       182           15             0             1\n",
       "2       272           14             0             0\n",
       "3        15           27             0             0\n",
       "4        27           51             0             0"
      ]
     },
     "execution_count": 31,
     "metadata": {},
     "output_type": "execute_result"
    }
   ],
   "source": [
    "idx = random.sample(parts_updated.index.values, 5000)\n",
    "X = parts_updated.ix[idx,\"color_id\":\"is_trans_num\"]\n",
    "X = X.reset_index().drop(\"index\",axis=1)\n",
    "X.head()"
   ]
  },
  {
   "cell_type": "code",
   "execution_count": 32,
   "metadata": {
    "collapsed": false
   },
   "outputs": [],
   "source": [
    "# Code from:\n",
    "#http://datascience.stackexchange.com/questions/6508/k-means-incoherent-behaviour-choosing-k-with-elbow-method-bic-variance-explain\n",
    "K = range(1,50)\n",
    "KM = [KMeans(n_clusters=k).fit(X) for k in K]\n",
    "centroids = [k.cluster_centers_ for k in KM]\n",
    "\n",
    "D_k = [cdist(X, cent, 'euclidean') for cent in centroids]\n",
    "cIdx = [np.argmin(D,axis=1) for D in D_k]\n",
    "dist = [np.min(D,axis=1) for D in D_k]\n",
    "avgWithinSS = [sum(d)/X.shape[0] for d in dist]\n",
    "\n",
    "# Total with-in sum of square\n",
    "wcss = [sum(d**2) for d in dist]\n",
    "tss = sum(pdist(X)**2)/X.shape[0]\n",
    "bss = tss-wcss"
   ]
  },
  {
   "cell_type": "code",
   "execution_count": 33,
   "metadata": {
    "collapsed": false
   },
   "outputs": [
    {
     "data": {
      "text/plain": [
       "<matplotlib.text.Text at 0xc2dad30>"
      ]
     },
     "execution_count": 33,
     "metadata": {},
     "output_type": "execute_result"
    },
    {
     "data": {
      "image/png": "[encoded data removed]",
      "text/plain": [
       "<matplotlib.figure.Figure at 0xc2eec50>"
      ]
     },
     "metadata": {},
     "output_type": "display_data"
    }
   ],
   "source": [
    "kIdx = 3-1\n",
    "\n",
    "# elbow curve\n",
    "fig = plt.figure()\n",
    "ax = fig.add_subplot(111)\n",
    "ax.plot(K, avgWithinSS, 'b*-')\n",
    "ax.plot(K[kIdx], avgWithinSS[kIdx], marker='o', markersize=12, \n",
    "markeredgewidth=2, markeredgecolor='r', markerfacecolor='None')\n",
    "plt.grid(True)\n",
    "plt.xlabel('Number of clusters')\n",
    "plt.ylabel('Average within-cluster sum of squares')\n",
    "plt.title('Elbow for KMeans clustering')"
   ]
  },
  {
   "cell_type": "code",
   "execution_count": 34,
   "metadata": {
    "collapsed": false
   },
   "outputs": [
    {
     "data": {
      "text/html": [
       "<div>\n",
       "<table border=\"1\" class=\"dataframe\">\n",
       "  <thead>\n",
       "    <tr style=\"text-align: right;\">\n",
       "      <th></th>\n",
       "      <th>color_id</th>\n",
       "      <th>part_cat_id</th>\n",
       "      <th>is_spare_num</th>\n",
       "      <th>is_trans_num</th>\n",
       "    </tr>\n",
       "  </thead>\n",
       "  <tbody>\n",
       "    <tr>\n",
       "      <th>0</th>\n",
       "      <td>28.198</td>\n",
       "      <td>21.600</td>\n",
       "      <td>0.048</td>\n",
       "      <td>0.079</td>\n",
       "    </tr>\n",
       "    <tr>\n",
       "      <th>1</th>\n",
       "      <td>9999.000</td>\n",
       "      <td>16.907</td>\n",
       "      <td>0.500</td>\n",
       "      <td>0.000</td>\n",
       "    </tr>\n",
       "    <tr>\n",
       "      <th>2</th>\n",
       "      <td>300.312</td>\n",
       "      <td>21.943</td>\n",
       "      <td>0.042</td>\n",
       "      <td>0.026</td>\n",
       "    </tr>\n",
       "  </tbody>\n",
       "</table>\n",
       "</div>"
      ],
      "text/plain": [
       "   color_id  part_cat_id  is_spare_num  is_trans_num\n",
       "0    28.198       21.600         0.048         0.079\n",
       "1  9999.000       16.907         0.500         0.000\n",
       "2   300.312       21.943         0.042         0.026"
      ]
     },
     "execution_count": 34,
     "metadata": {},
     "output_type": "execute_result"
    }
   ],
   "source": [
    "clusters = KM[2].predict(parts_updated.ix[:,\"color_id\":\"is_trans_num\"])\n",
    "cl_centroids = pd.DataFrame(centroids[2],columns=X.columns.values).applymap(lambda x: round(x,3))\n",
    "cl_centroids"
   ]
  },
  {
   "cell_type": "code",
   "execution_count": 35,
   "metadata": {
    "collapsed": false
   },
   "outputs": [
    {
     "name": "stdout",
     "output_type": "stream",
     "text": [
      "2                               Bricks Sloped\n",
      "3                     Duplo, Quatro and Primo\n",
      "12                                   Minifigs\n",
      "26                        Minifig Accessories\n",
      "40    Bionicle, Hero Factory and Constraction\n",
      "Name: name, dtype: object\n"
     ]
    },
    {
     "data": {
      "image/png": "[encoded data removed]",
      "text/plain": [
       "<matplotlib.figure.Figure at 0x133895c0>"
      ]
     },
     "metadata": {},
     "output_type": "display_data"
    }
   ],
   "source": [
    "# Investigate cluster 0\n",
    "\n",
    "# Top 10 most common colors in cluster\n",
    "cl0_idx = parts_updated[clusters == 0][\"color_id\"].value_counts()[:10].index.values\n",
    "rgb_0 = colors[colors[\"id\"].isin(cl0_idx)][\"rgb\"].map(lambda x: \"#\" + x)\n",
    "sns.palplot(sns.color_palette(rgb_0))\n",
    "plt.savefig(\"cluster0_palette.png\",transparent=True)\n",
    "\n",
    "# Top 10 most common part categories\n",
    "cl0_idx_parts = parts_updated[clusters == 0][\"part_cat_id\"].value_counts()[:5].index.values\n",
    "print part_cat[part_cat[\"id\"].isin(cl0_idx_parts)][\"name\"]"
   ]
  },
  {
   "cell_type": "code",
   "execution_count": 36,
   "metadata": {
    "collapsed": false
   },
   "outputs": [
    {
     "name": "stdout",
     "output_type": "stream",
     "text": [
      "3              Duplo, Quatro and Primo\n",
      "12                            Minifigs\n",
      "16                            Non-LEGO\n",
      "37    Flags, Signs, Plastics and Cloth\n",
      "41        Belville, Scala and Fabuland\n",
      "Name: name, dtype: object\n"
     ]
    },
    {
     "data": {
      "image/png": "[encoded data removed]",
      "text/plain": [
       "<matplotlib.figure.Figure at 0x1d7ce470>"
      ]
     },
     "metadata": {},
     "output_type": "display_data"
    }
   ],
   "source": [
    "# Investigate cluster 1\n",
    "\n",
    "# Top 10 most common colors in cluster\n",
    "cl1_idx = parts_updated[clusters == 1][\"color_id\"].value_counts()[:10].index.values\n",
    "rgb_1 = colors[colors[\"id\"].isin(cl1_idx)][\"rgb\"].map(lambda x: \"#\" + x)\n",
    "sns.palplot(sns.color_palette(rgb_1))\n",
    "plt.savefig(\"cluster1_palette.png\",transparent=True)\n",
    "\n",
    "# Top 10 most common part categories\n",
    "cl1_idx_parts = parts_updated[clusters == 1][\"part_cat_id\"].value_counts()[:5].index.values\n",
    "print part_cat[part_cat[\"id\"].isin(cl1_idx_parts)][\"name\"]"
   ]
  },
  {
   "cell_type": "code",
   "execution_count": 37,
   "metadata": {
    "collapsed": false
   },
   "outputs": [
    {
     "name": "stdout",
     "output_type": "stream",
     "text": [
      "2                               Bricks Sloped\n",
      "12                                   Minifigs\n",
      "26                        Minifig Accessories\n",
      "27                         Plants and Animals\n",
      "40    Bionicle, Hero Factory and Constraction\n",
      "Name: name, dtype: object\n"
     ]
    },
    {
     "data": {
      "image/png": "[encoded data removed]",
      "text/plain": [
       "<matplotlib.figure.Figure at 0xce671d0>"
      ]
     },
     "metadata": {},
     "output_type": "display_data"
    }
   ],
   "source": [
    "# Investigate cluster 2\n",
    "\n",
    "# Top 10 most common colors in cluster\n",
    "cl2_idx = parts_updated[clusters == 2][\"color_id\"].value_counts()[:10].index.values\n",
    "rgb_2 = colors[colors[\"id\"].isin(cl2_idx)][\"rgb\"].map(lambda x: \"#\" + x)\n",
    "sns.palplot(sns.color_palette(rgb_2))\n",
    "plt.savefig(\"cluster2_palette.png\",transparent=True)\n",
    "\n",
    "# Top 10 most common part categories\n",
    "cl2_idx_parts = parts_updated[clusters == 2][\"part_cat_id\"].value_counts()[:5].index.values\n",
    "print part_cat[part_cat[\"id\"].isin(cl2_idx_parts)][\"name\"]"
   ]
  },
  {
   "cell_type": "markdown",
   "metadata": {},
   "source": [
    "### Cluster Themes"
   ]
  },
  {
   "cell_type": "code",
   "execution_count": 38,
   "metadata": {
    "collapsed": false
   },
   "outputs": [
    {
     "data": {
      "text/plain": [
       "399"
      ]
     },
     "execution_count": 38,
     "metadata": {},
     "output_type": "execute_result"
    }
   ],
   "source": [
    "# Total number of themes\n",
    "len(themes[\"name\"].value_counts().index)"
   ]
  },
  {
   "cell_type": "code",
   "execution_count": 39,
   "metadata": {
    "collapsed": false
   },
   "outputs": [
    {
     "data": {
      "text/html": [
       "<div>\n",
       "<table border=\"1\" class=\"dataframe\">\n",
       "  <thead>\n",
       "    <tr style=\"text-align: right;\">\n",
       "      <th></th>\n",
       "      <th>set_num</th>\n",
       "      <th>name_x</th>\n",
       "      <th>year</th>\n",
       "      <th>theme_id</th>\n",
       "      <th>num_parts</th>\n",
       "      <th>id</th>\n",
       "      <th>name_y</th>\n",
       "      <th>parent_id</th>\n",
       "    </tr>\n",
       "  </thead>\n",
       "  <tbody>\n",
       "    <tr>\n",
       "      <th>0</th>\n",
       "      <td>00-1</td>\n",
       "      <td>Weetabix Castle</td>\n",
       "      <td>1970</td>\n",
       "      <td>414</td>\n",
       "      <td>471</td>\n",
       "      <td>414</td>\n",
       "      <td>Castle</td>\n",
       "      <td>411.0</td>\n",
       "    </tr>\n",
       "    <tr>\n",
       "      <th>1</th>\n",
       "      <td>0011-2</td>\n",
       "      <td>Town Mini-Figures</td>\n",
       "      <td>1978</td>\n",
       "      <td>84</td>\n",
       "      <td>12</td>\n",
       "      <td>84</td>\n",
       "      <td>Supplemental</td>\n",
       "      <td>67.0</td>\n",
       "    </tr>\n",
       "    <tr>\n",
       "      <th>2</th>\n",
       "      <td>0011-3</td>\n",
       "      <td>Castle 2 for 1 Bonus Offer</td>\n",
       "      <td>1987</td>\n",
       "      <td>199</td>\n",
       "      <td>2</td>\n",
       "      <td>199</td>\n",
       "      <td>Lion Knights</td>\n",
       "      <td>186.0</td>\n",
       "    </tr>\n",
       "    <tr>\n",
       "      <th>3</th>\n",
       "      <td>0012-1</td>\n",
       "      <td>Space Mini-Figures</td>\n",
       "      <td>1979</td>\n",
       "      <td>143</td>\n",
       "      <td>12</td>\n",
       "      <td>143</td>\n",
       "      <td>Supplemental</td>\n",
       "      <td>126.0</td>\n",
       "    </tr>\n",
       "    <tr>\n",
       "      <th>4</th>\n",
       "      <td>0013-1</td>\n",
       "      <td>Space Mini-Figures</td>\n",
       "      <td>1979</td>\n",
       "      <td>143</td>\n",
       "      <td>12</td>\n",
       "      <td>143</td>\n",
       "      <td>Supplemental</td>\n",
       "      <td>126.0</td>\n",
       "    </tr>\n",
       "  </tbody>\n",
       "</table>\n",
       "</div>"
      ],
      "text/plain": [
       "  set_num                      name_x  year  theme_id  num_parts   id  \\\n",
       "0    00-1             Weetabix Castle  1970       414        471  414   \n",
       "1  0011-2           Town Mini-Figures  1978        84         12   84   \n",
       "2  0011-3  Castle 2 for 1 Bonus Offer  1987       199          2  199   \n",
       "3  0012-1          Space Mini-Figures  1979       143         12  143   \n",
       "4  0013-1          Space Mini-Figures  1979       143         12  143   \n",
       "\n",
       "         name_y  parent_id  \n",
       "0        Castle      411.0  \n",
       "1  Supplemental       67.0  \n",
       "2  Lion Knights      186.0  \n",
       "3  Supplemental      126.0  \n",
       "4  Supplemental      126.0  "
      ]
     },
     "execution_count": 39,
     "metadata": {},
     "output_type": "execute_result"
    }
   ],
   "source": [
    "sets_merge = sets.merge(themes, how=\"left\", left_on=\"theme_id\", right_on=\"id\")\n",
    "sets_merge.head()"
   ]
  },
  {
   "cell_type": "code",
   "execution_count": 40,
   "metadata": {
    "collapsed": false
   },
   "outputs": [],
   "source": [
    "# Get number of sets per theme each year\n",
    "sets_merge_unique = sets_merge.groupby([\"year\",\"name_y\"])[\"name_x\"].apply(lambda x: len(x.unique()))\n",
    "#sets_merge_unique.to_csv(\"set_themes.csv\")\n",
    "\n",
    "sets_merge_unique = sets_merge_unique.unstack()"
   ]
  },
  {
   "cell_type": "code",
   "execution_count": null,
   "metadata": {
    "collapsed": true
   },
   "outputs": [],
   "source": []
  }
 ],
 "metadata": {
  "anaconda-cloud": {},
  "kernelspec": {
   "display_name": "Python [Root]",
   "language": "python",
   "name": "Python [Root]"
  },
  "language_info": {
   "codemirror_mode": {
    "name": "ipython",
    "version": 2
   },
   "file_extension": ".py",
   "mimetype": "text/x-python",
   "name": "python",
   "nbconvert_exporter": "python",
   "pygments_lexer": "ipython2",
   "version": "2.7.11"
  }
 },
 "nbformat": 4,
 "nbformat_minor": 0
}
